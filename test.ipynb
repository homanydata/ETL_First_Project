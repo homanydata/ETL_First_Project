{
 "cells": [
  {
   "cell_type": "code",
   "execution_count": 3,
   "metadata": {},
   "outputs": [
    {
     "name": "stdout",
     "output_type": "stream",
     "text": [
      "connection succeded\n",
      "Migration Process Started...\n",
      "version 0:all good\n",
      "version 1:all good\n",
      "version 3:all good\n",
      "version 4:all good\n",
      "version 5:all good\n",
      "version 6:all good\n",
      "version 7:all good\n",
      "version 8:all good\n",
      "version 9:all good\n",
      "version 10:all good\n",
      "connection succeded\n",
      "HTTPSConnectionPool(host='api.telegram.org', port=443): Max retries exceeded with url: /bot5903757228:AAGxXmVHt0Fk7ADTCa3tYdlpJ1FE6NZkrzk/getMe (Caused by NewConnectionError('<urllib3.connection.HTTPSConnection object at 0x000001B11594BB80>: Failed to establish a new connection: [Errno 11001] getaddrinfo failed'))\n",
      "['coding', 'brainy', Decimal('5122806233'), 140, None, None, None, None, None, 1694848876]\n"
     ]
    }
   ],
   "source": [
    "from generateSampleData import generate_record\n",
    "from bot import HabitsBot\n",
    "bot = HabitsBot()\n",
    "generate_record"
   ]
  }
 ],
 "metadata": {
  "kernelspec": {
   "display_name": "base",
   "language": "python",
   "name": "python3"
  },
  "language_info": {
   "codemirror_mode": {
    "name": "ipython",
    "version": 3
   },
   "file_extension": ".py",
   "mimetype": "text/x-python",
   "name": "python",
   "nbconvert_exporter": "python",
   "pygments_lexer": "ipython3",
   "version": "3.10.9"
  },
  "orig_nbformat": 4
 },
 "nbformat": 4,
 "nbformat_minor": 2
}
